{
 "cells": [
  {
   "cell_type": "markdown",
   "metadata": {},
   "source": [
    "# Patch CNN Baseline\n",
    "\n",
    "In this notebook, we develop an approach which consists in using a CNN to directly classify the patches (as presented in tutorial 10)."
   ]
  },
  {
   "cell_type": "code",
   "execution_count": 1,
   "metadata": {},
   "outputs": [],
   "source": [
    "import os\n",
    "from glob import glob\n",
    "import torch\n",
    "\n",
    "from src.utils import *\n",
    "from src.models import PatchCNN\n",
    "from src.pytorch_utils import *\n",
    "from src.dataset_augmentation import augment_dataset"
   ]
  },
  {
   "cell_type": "code",
   "execution_count": 2,
   "metadata": {},
   "outputs": [],
   "source": [
    "device = 'cuda' if torch.cuda.is_available() else 'cpu'\n",
    "\n",
    "# get filenames of all the training samples from the original dataset\n",
    "image_fns = sorted(glob(os.path.join(\"training\", \"images\", \"*.png\")))\n",
    "mask_fns = sorted(glob(os.path.join(\"training\", \"groundtruth\", \"*.png\")))"
   ]
  },
  {
   "cell_type": "markdown",
   "metadata": {},
   "source": [
    "### Original Configuration\n",
    "\n",
    "Let us train the baseline model using the exact same configuration as shown during tutorial 10. This approach results in a F1 score of about ?TODO."
   ]
  },
  {
   "cell_type": "code",
   "execution_count": 6,
   "metadata": {},
   "outputs": [
    {
     "name": "stdout",
     "output_type": "stream",
     "text": [
      "Number of training samples:\t83750\n",
      "Number of validation samples:\t6250\n"
     ]
    },
    {
     "data": {
      "application/vnd.jupyter.widget-view+json": {
       "model_id": "f916bac7152949e388a253ca92d572f3",
       "version_major": 2,
       "version_minor": 0
      },
      "text/plain": [
       "Epoch 1/3:   0%|          | 0/328 [00:00<?, ?it/s]"
      ]
     },
     "metadata": {},
     "output_type": "display_data"
    },
    {
     "ename": "KeyboardInterrupt",
     "evalue": "",
     "output_type": "error",
     "traceback": [
      "\u001b[1;31m---------------------------------------------------------------------------\u001b[0m",
      "\u001b[1;31mKeyboardInterrupt\u001b[0m                         Traceback (most recent call last)",
      "\u001b[1;32mc:\\Users\\guill\\Documents\\Projets informatiques\\cil-road-segmentation-2022\\cil-road-segmentation\\patch_cnn_baseline.ipynb Cellule 5\u001b[0m in \u001b[0;36m<cell line: 2>\u001b[1;34m()\u001b[0m\n\u001b[0;32m      <a href='vscode-notebook-cell:/c%3A/Users/guill/Documents/Projets%20informatiques/cil-road-segmentation-2022/cil-road-segmentation/patch_cnn_baseline.ipynb#ch0000004?line=0'>1</a>\u001b[0m patch_cnn \u001b[39m=\u001b[39m PatchCNN()\u001b[39m.\u001b[39mto(device)\n\u001b[1;32m----> <a href='vscode-notebook-cell:/c%3A/Users/guill/Documents/Projets%20informatiques/cil-road-segmentation-2022/cil-road-segmentation/patch_cnn_baseline.ipynb#ch0000004?line=1'>2</a>\u001b[0m history \u001b[39m=\u001b[39m train_model(\n\u001b[0;32m      <a href='vscode-notebook-cell:/c%3A/Users/guill/Documents/Projets%20informatiques/cil-road-segmentation-2022/cil-road-segmentation/patch_cnn_baseline.ipynb#ch0000004?line=2'>3</a>\u001b[0m     model\u001b[39m=\u001b[39;49mpatch_cnn,\n\u001b[0;32m      <a href='vscode-notebook-cell:/c%3A/Users/guill/Documents/Projets%20informatiques/cil-road-segmentation-2022/cil-road-segmentation/patch_cnn_baseline.ipynb#ch0000004?line=3'>4</a>\u001b[0m     image_fns_train\u001b[39m=\u001b[39;49mimage_fns[:\u001b[39m-\u001b[39;49m\u001b[39m10\u001b[39;49m],\n\u001b[0;32m      <a href='vscode-notebook-cell:/c%3A/Users/guill/Documents/Projets%20informatiques/cil-road-segmentation-2022/cil-road-segmentation/patch_cnn_baseline.ipynb#ch0000004?line=4'>5</a>\u001b[0m     mask_fns_train\u001b[39m=\u001b[39;49mmask_fns[:\u001b[39m-\u001b[39;49m\u001b[39m10\u001b[39;49m],\n\u001b[0;32m      <a href='vscode-notebook-cell:/c%3A/Users/guill/Documents/Projets%20informatiques/cil-road-segmentation-2022/cil-road-segmentation/patch_cnn_baseline.ipynb#ch0000004?line=5'>6</a>\u001b[0m     image_fns_val\u001b[39m=\u001b[39;49mimage_fns[\u001b[39m-\u001b[39;49m\u001b[39m10\u001b[39;49m:],\n\u001b[0;32m      <a href='vscode-notebook-cell:/c%3A/Users/guill/Documents/Projets%20informatiques/cil-road-segmentation-2022/cil-road-segmentation/patch_cnn_baseline.ipynb#ch0000004?line=6'>7</a>\u001b[0m     mask_fns_val\u001b[39m=\u001b[39;49mmask_fns[\u001b[39m-\u001b[39;49m\u001b[39m10\u001b[39;49m:],\n\u001b[0;32m      <a href='vscode-notebook-cell:/c%3A/Users/guill/Documents/Projets%20informatiques/cil-road-segmentation-2022/cil-road-segmentation/patch_cnn_baseline.ipynb#ch0000004?line=7'>8</a>\u001b[0m     n_epochs\u001b[39m=\u001b[39;49m\u001b[39m3\u001b[39;49m,\n\u001b[0;32m      <a href='vscode-notebook-cell:/c%3A/Users/guill/Documents/Projets%20informatiques/cil-road-segmentation-2022/cil-road-segmentation/patch_cnn_baseline.ipynb#ch0000004?line=8'>9</a>\u001b[0m     batch_size\u001b[39m=\u001b[39;49m\u001b[39m256\u001b[39;49m,\n\u001b[0;32m     <a href='vscode-notebook-cell:/c%3A/Users/guill/Documents/Projets%20informatiques/cil-road-segmentation-2022/cil-road-segmentation/patch_cnn_baseline.ipynb#ch0000004?line=9'>10</a>\u001b[0m     use_patches\u001b[39m=\u001b[39;49m\u001b[39mTrue\u001b[39;49;00m,\n\u001b[0;32m     <a href='vscode-notebook-cell:/c%3A/Users/guill/Documents/Projets%20informatiques/cil-road-segmentation-2022/cil-road-segmentation/patch_cnn_baseline.ipynb#ch0000004?line=10'>11</a>\u001b[0m )\n",
      "File \u001b[1;32mc:\\Users\\guill\\Documents\\Projets informatiques\\cil-road-segmentation-2022\\cil-road-segmentation\\src\\pytorch_utils.py:269\u001b[0m, in \u001b[0;36mtrain_model\u001b[1;34m(model, image_fns_train, mask_fns_train, image_fns_val, mask_fns_val, n_epochs, batch_size, resize_shape, normalize, pos_weight, plot_val_samples, use_patches)\u001b[0m\n\u001b[0;32m    267\u001b[0m \u001b[39m# training\u001b[39;00m\n\u001b[0;32m    268\u001b[0m model\u001b[39m.\u001b[39mtrain()\n\u001b[1;32m--> 269\u001b[0m \u001b[39mfor\u001b[39;00m (x, y) \u001b[39min\u001b[39;00m pbar:\n\u001b[0;32m    270\u001b[0m     optimizer\u001b[39m.\u001b[39mzero_grad()  \u001b[39m# zero out gradients\u001b[39;00m\n\u001b[0;32m    271\u001b[0m     y_hat \u001b[39m=\u001b[39m model(x)  \u001b[39m# forward pass\u001b[39;00m\n",
      "File \u001b[1;32mc:\\Users\\guill\\AppData\\Local\\Programs\\Python\\Python39\\lib\\site-packages\\tqdm\\notebook.py:253\u001b[0m, in \u001b[0;36mtqdm_notebook.__iter__\u001b[1;34m(self)\u001b[0m\n\u001b[0;32m    251\u001b[0m \u001b[39mdef\u001b[39;00m \u001b[39m__iter__\u001b[39m(\u001b[39mself\u001b[39m):\n\u001b[0;32m    252\u001b[0m     \u001b[39mtry\u001b[39;00m:\n\u001b[1;32m--> 253\u001b[0m         \u001b[39mfor\u001b[39;00m obj \u001b[39min\u001b[39;00m \u001b[39msuper\u001b[39m(tqdm_notebook, \u001b[39mself\u001b[39m)\u001b[39m.\u001b[39m\u001b[39m__iter__\u001b[39m():\n\u001b[0;32m    254\u001b[0m             \u001b[39m# return super(tqdm...) will not catch exception\u001b[39;00m\n\u001b[0;32m    255\u001b[0m             \u001b[39myield\u001b[39;00m obj\n\u001b[0;32m    256\u001b[0m     \u001b[39m# NB: except ... [ as ...] breaks IPython async KeyboardInterrupt\u001b[39;00m\n",
      "File \u001b[1;32mc:\\Users\\guill\\AppData\\Local\\Programs\\Python\\Python39\\lib\\site-packages\\tqdm\\std.py:1176\u001b[0m, in \u001b[0;36mtqdm.__iter__\u001b[1;34m(self)\u001b[0m\n\u001b[0;32m   1173\u001b[0m time \u001b[39m=\u001b[39m \u001b[39mself\u001b[39m\u001b[39m.\u001b[39m_time\n\u001b[0;32m   1175\u001b[0m \u001b[39mtry\u001b[39;00m:\n\u001b[1;32m-> 1176\u001b[0m     \u001b[39mfor\u001b[39;00m obj \u001b[39min\u001b[39;00m iterable:\n\u001b[0;32m   1177\u001b[0m         \u001b[39myield\u001b[39;00m obj\n\u001b[0;32m   1178\u001b[0m         \u001b[39m# Update and possibly print the progressbar.\u001b[39;00m\n\u001b[0;32m   1179\u001b[0m         \u001b[39m# Note: does not call self.update(1) for speed optimisation.\u001b[39;00m\n",
      "File \u001b[1;32mc:\\Users\\guill\\AppData\\Local\\Programs\\Python\\Python39\\lib\\site-packages\\torch\\utils\\data\\dataloader.py:530\u001b[0m, in \u001b[0;36m_BaseDataLoaderIter.__next__\u001b[1;34m(self)\u001b[0m\n\u001b[0;32m    528\u001b[0m \u001b[39mif\u001b[39;00m \u001b[39mself\u001b[39m\u001b[39m.\u001b[39m_sampler_iter \u001b[39mis\u001b[39;00m \u001b[39mNone\u001b[39;00m:\n\u001b[0;32m    529\u001b[0m     \u001b[39mself\u001b[39m\u001b[39m.\u001b[39m_reset()\n\u001b[1;32m--> 530\u001b[0m data \u001b[39m=\u001b[39m \u001b[39mself\u001b[39;49m\u001b[39m.\u001b[39;49m_next_data()\n\u001b[0;32m    531\u001b[0m \u001b[39mself\u001b[39m\u001b[39m.\u001b[39m_num_yielded \u001b[39m+\u001b[39m\u001b[39m=\u001b[39m \u001b[39m1\u001b[39m\n\u001b[0;32m    532\u001b[0m \u001b[39mif\u001b[39;00m \u001b[39mself\u001b[39m\u001b[39m.\u001b[39m_dataset_kind \u001b[39m==\u001b[39m _DatasetKind\u001b[39m.\u001b[39mIterable \u001b[39mand\u001b[39;00m \\\n\u001b[0;32m    533\u001b[0m         \u001b[39mself\u001b[39m\u001b[39m.\u001b[39m_IterableDataset_len_called \u001b[39mis\u001b[39;00m \u001b[39mnot\u001b[39;00m \u001b[39mNone\u001b[39;00m \u001b[39mand\u001b[39;00m \\\n\u001b[0;32m    534\u001b[0m         \u001b[39mself\u001b[39m\u001b[39m.\u001b[39m_num_yielded \u001b[39m>\u001b[39m \u001b[39mself\u001b[39m\u001b[39m.\u001b[39m_IterableDataset_len_called:\n",
      "File \u001b[1;32mc:\\Users\\guill\\AppData\\Local\\Programs\\Python\\Python39\\lib\\site-packages\\torch\\utils\\data\\dataloader.py:570\u001b[0m, in \u001b[0;36m_SingleProcessDataLoaderIter._next_data\u001b[1;34m(self)\u001b[0m\n\u001b[0;32m    568\u001b[0m \u001b[39mdef\u001b[39;00m \u001b[39m_next_data\u001b[39m(\u001b[39mself\u001b[39m):\n\u001b[0;32m    569\u001b[0m     index \u001b[39m=\u001b[39m \u001b[39mself\u001b[39m\u001b[39m.\u001b[39m_next_index()  \u001b[39m# may raise StopIteration\u001b[39;00m\n\u001b[1;32m--> 570\u001b[0m     data \u001b[39m=\u001b[39m \u001b[39mself\u001b[39;49m\u001b[39m.\u001b[39;49m_dataset_fetcher\u001b[39m.\u001b[39;49mfetch(index)  \u001b[39m# may raise StopIteration\u001b[39;00m\n\u001b[0;32m    571\u001b[0m     \u001b[39mif\u001b[39;00m \u001b[39mself\u001b[39m\u001b[39m.\u001b[39m_pin_memory:\n\u001b[0;32m    572\u001b[0m         data \u001b[39m=\u001b[39m _utils\u001b[39m.\u001b[39mpin_memory\u001b[39m.\u001b[39mpin_memory(data)\n",
      "File \u001b[1;32mc:\\Users\\guill\\AppData\\Local\\Programs\\Python\\Python39\\lib\\site-packages\\torch\\utils\\data\\_utils\\fetch.py:49\u001b[0m, in \u001b[0;36m_MapDatasetFetcher.fetch\u001b[1;34m(self, possibly_batched_index)\u001b[0m\n\u001b[0;32m     47\u001b[0m \u001b[39mdef\u001b[39;00m \u001b[39mfetch\u001b[39m(\u001b[39mself\u001b[39m, possibly_batched_index):\n\u001b[0;32m     48\u001b[0m     \u001b[39mif\u001b[39;00m \u001b[39mself\u001b[39m\u001b[39m.\u001b[39mauto_collation:\n\u001b[1;32m---> 49\u001b[0m         data \u001b[39m=\u001b[39m [\u001b[39mself\u001b[39m\u001b[39m.\u001b[39mdataset[idx] \u001b[39mfor\u001b[39;00m idx \u001b[39min\u001b[39;00m possibly_batched_index]\n\u001b[0;32m     50\u001b[0m     \u001b[39melse\u001b[39;00m:\n\u001b[0;32m     51\u001b[0m         data \u001b[39m=\u001b[39m \u001b[39mself\u001b[39m\u001b[39m.\u001b[39mdataset[possibly_batched_index]\n",
      "File \u001b[1;32mc:\\Users\\guill\\AppData\\Local\\Programs\\Python\\Python39\\lib\\site-packages\\torch\\utils\\data\\_utils\\fetch.py:49\u001b[0m, in \u001b[0;36m<listcomp>\u001b[1;34m(.0)\u001b[0m\n\u001b[0;32m     47\u001b[0m \u001b[39mdef\u001b[39;00m \u001b[39mfetch\u001b[39m(\u001b[39mself\u001b[39m, possibly_batched_index):\n\u001b[0;32m     48\u001b[0m     \u001b[39mif\u001b[39;00m \u001b[39mself\u001b[39m\u001b[39m.\u001b[39mauto_collation:\n\u001b[1;32m---> 49\u001b[0m         data \u001b[39m=\u001b[39m [\u001b[39mself\u001b[39;49m\u001b[39m.\u001b[39;49mdataset[idx] \u001b[39mfor\u001b[39;00m idx \u001b[39min\u001b[39;00m possibly_batched_index]\n\u001b[0;32m     50\u001b[0m     \u001b[39melse\u001b[39;00m:\n\u001b[0;32m     51\u001b[0m         data \u001b[39m=\u001b[39m \u001b[39mself\u001b[39m\u001b[39m.\u001b[39mdataset[possibly_batched_index]\n",
      "File \u001b[1;32mc:\\Users\\guill\\Documents\\Projets informatiques\\cil-road-segmentation-2022\\cil-road-segmentation\\src\\pytorch_utils.py:122\u001b[0m, in \u001b[0;36mPatchImageDataset.__getitem__\u001b[1;34m(self, item)\u001b[0m\n\u001b[0;32m    120\u001b[0m     y \u001b[39m=\u001b[39m load_image(\u001b[39mself\u001b[39m\u001b[39m.\u001b[39mmask_fns[item])\n\u001b[0;32m    121\u001b[0m     y \u001b[39m=\u001b[39m np\u001b[39m.\u001b[39mexpand_dims(y, axis\u001b[39m=\u001b[39m\u001b[39m0\u001b[39m)\n\u001b[1;32m--> 122\u001b[0m     patches, labels \u001b[39m=\u001b[39m image_to_patches(x, masks\u001b[39m=\u001b[39;49my)\n\u001b[0;32m    123\u001b[0m \u001b[39m# if test set:\u001b[39;00m\n\u001b[0;32m    124\u001b[0m \u001b[39melse\u001b[39;00m:\n\u001b[0;32m    125\u001b[0m     patches \u001b[39m=\u001b[39m image_to_patches(x)\n",
      "File \u001b[1;32mc:\\Users\\guill\\Documents\\Projets informatiques\\cil-road-segmentation-2022\\cil-road-segmentation\\src\\utils.py:100\u001b[0m, in \u001b[0;36mimage_to_patches\u001b[1;34m(images, masks)\u001b[0m\n\u001b[0;32m     98\u001b[0m masks \u001b[39m=\u001b[39m masks\u001b[39m.\u001b[39mreshape((n_images, h_patches, PATCH_SIZE, w_patches, PATCH_SIZE, \u001b[39m-\u001b[39m\u001b[39m1\u001b[39m))\n\u001b[0;32m     99\u001b[0m masks \u001b[39m=\u001b[39m np\u001b[39m.\u001b[39mmoveaxis(masks, \u001b[39m2\u001b[39m, \u001b[39m3\u001b[39m)\n\u001b[1;32m--> 100\u001b[0m labels \u001b[39m=\u001b[39m np\u001b[39m.\u001b[39;49mmean(masks, (\u001b[39m-\u001b[39;49m\u001b[39m1\u001b[39;49m, \u001b[39m-\u001b[39;49m\u001b[39m2\u001b[39;49m, \u001b[39m-\u001b[39;49m\u001b[39m3\u001b[39;49m)) \u001b[39m>\u001b[39m CUTOFF  \u001b[39m# compute labels\u001b[39;00m\n\u001b[0;32m    101\u001b[0m labels \u001b[39m=\u001b[39m labels\u001b[39m.\u001b[39mreshape(\u001b[39m-\u001b[39m\u001b[39m1\u001b[39m)\u001b[39m.\u001b[39mastype(np\u001b[39m.\u001b[39mfloat32)\n\u001b[0;32m    102\u001b[0m \u001b[39mreturn\u001b[39;00m patches, labels\n",
      "File \u001b[1;32m<__array_function__ internals>:180\u001b[0m, in \u001b[0;36mmean\u001b[1;34m(*args, **kwargs)\u001b[0m\n",
      "File \u001b[1;32mc:\\Users\\guill\\AppData\\Local\\Programs\\Python\\Python39\\lib\\site-packages\\numpy\\core\\fromnumeric.py:3432\u001b[0m, in \u001b[0;36mmean\u001b[1;34m(a, axis, dtype, out, keepdims, where)\u001b[0m\n\u001b[0;32m   3429\u001b[0m     \u001b[39melse\u001b[39;00m:\n\u001b[0;32m   3430\u001b[0m         \u001b[39mreturn\u001b[39;00m mean(axis\u001b[39m=\u001b[39maxis, dtype\u001b[39m=\u001b[39mdtype, out\u001b[39m=\u001b[39mout, \u001b[39m*\u001b[39m\u001b[39m*\u001b[39mkwargs)\n\u001b[1;32m-> 3432\u001b[0m \u001b[39mreturn\u001b[39;00m _methods\u001b[39m.\u001b[39m_mean(a, axis\u001b[39m=\u001b[39maxis, dtype\u001b[39m=\u001b[39mdtype,\n\u001b[0;32m   3433\u001b[0m                       out\u001b[39m=\u001b[39mout, \u001b[39m*\u001b[39m\u001b[39m*\u001b[39mkwargs)\n",
      "File \u001b[1;32mc:\\Users\\guill\\AppData\\Local\\Programs\\Python\\Python39\\lib\\site-packages\\numpy\\core\\_methods.py:180\u001b[0m, in \u001b[0;36m_mean\u001b[1;34m(a, axis, dtype, out, keepdims, where)\u001b[0m\n\u001b[0;32m    177\u001b[0m         dtype \u001b[39m=\u001b[39m mu\u001b[39m.\u001b[39mdtype(\u001b[39m'\u001b[39m\u001b[39mf4\u001b[39m\u001b[39m'\u001b[39m)\n\u001b[0;32m    178\u001b[0m         is_float16_result \u001b[39m=\u001b[39m \u001b[39mTrue\u001b[39;00m\n\u001b[1;32m--> 180\u001b[0m ret \u001b[39m=\u001b[39m umr_sum(arr, axis, dtype, out, keepdims, where\u001b[39m=\u001b[39;49mwhere)\n\u001b[0;32m    181\u001b[0m \u001b[39mif\u001b[39;00m \u001b[39misinstance\u001b[39m(ret, mu\u001b[39m.\u001b[39mndarray):\n\u001b[0;32m    182\u001b[0m     ret \u001b[39m=\u001b[39m um\u001b[39m.\u001b[39mtrue_divide(\n\u001b[0;32m    183\u001b[0m             ret, rcount, out\u001b[39m=\u001b[39mret, casting\u001b[39m=\u001b[39m\u001b[39m'\u001b[39m\u001b[39munsafe\u001b[39m\u001b[39m'\u001b[39m, subok\u001b[39m=\u001b[39m\u001b[39mFalse\u001b[39;00m)\n",
      "\u001b[1;31mKeyboardInterrupt\u001b[0m: "
     ]
    }
   ],
   "source": [
    "patch_cnn = PatchCNN().to(device)\n",
    "history = train_model(\n",
    "    model=patch_cnn,\n",
    "    image_fns_train=image_fns[:-10],\n",
    "    mask_fns_train=mask_fns[:-10],\n",
    "    image_fns_val=image_fns[-10:],\n",
    "    mask_fns_val=mask_fns[-10:],\n",
    "    n_epochs=20,\n",
    "    batch_size=128,\n",
    "    use_patches=True,\n",
    ")"
   ]
  },
  {
   "cell_type": "code",
   "execution_count": 5,
   "metadata": {},
   "outputs": [
    {
     "data": {
      "image/png": "[encoded data removed]",
      "text/plain": [
       "<Figure size 432x288 with 1 Axes>"
      ]
     },
     "metadata": {
      "needs_background": "light"
     },
     "output_type": "display_data"
    },
    {
     "data": {
      "image/png": "[encoded data removed]",
      "text/plain": [
       "<Figure size 432x288 with 1 Axes>"
      ]
     },
     "metadata": {
      "needs_background": "light"
     },
     "output_type": "display_data"
    }
   ],
   "source": [
    "plot_training_history(history, metrics=['loss', 'acc'])"
   ]
  },
  {
   "cell_type": "code",
   "execution_count": 7,
   "metadata": {},
   "outputs": [
    {
     "data": {
      "application/vnd.jupyter.widget-view+json": {
       "model_id": "6314846899f946ed969d9f91a80ad5fd",
       "version_major": 2,
       "version_minor": 0
      },
      "text/plain": [
       "  0%|          | 0/90000 [00:00<?, ?it/s]"
      ]
     },
     "metadata": {},
     "output_type": "display_data"
    },
    {
     "name": "stdout",
     "output_type": "stream",
     "text": [
      "Created submission file: submissions\\patch_cnn_baseline.csv\n"
     ]
    },
    {
     "data": {
      "text/plain": [
       "array([[0.5603761 ],\n",
       "       [0.5964157 ],\n",
       "       [0.5732928 ],\n",
       "       ...,\n",
       "       [0.5269453 ],\n",
       "       [0.57122576],\n",
       "       [0.549136  ]], dtype=float32)"
      ]
     },
     "execution_count": 7,
     "metadata": {},
     "output_type": "execute_result"
    }
   ],
   "source": [
    "predict_on_test_set(\n",
    "    patch_cnn, \n",
    "    submission_fn=\"patch_cnn_baseline.csv\",\n",
    "    use_patches=True,\n",
    ")"
   ]
  },
  {
   "cell_type": "markdown",
   "metadata": {},
   "source": [
    "### Image Normalization (TODO)\n",
    "\n",
    "Now, let us add image normalization as a preprocessing step. I.e. for each image, we compute the mean and std of each color channel and use them to normalize each channel. This addition results in a F1 score of about ?TODO."
   ]
  },
  {
   "cell_type": "code",
   "execution_count": null,
   "metadata": {},
   "outputs": [],
   "source": [
    "patch_cnn = PatchCNN().to(device)\n",
    "history = train_model(\n",
    "    model=patch_cnn,\n",
    "    image_fns_train=image_fns[:-10],\n",
    "    mask_fns_train=mask_fns[:-10],\n",
    "    image_fns_val=image_fns[-10:],\n",
    "    mask_fns_val=mask_fns[-10:],\n",
    "    n_epochs=20,\n",
    "    batch_size=128,\n",
    "    normalize=True,\n",
    "    use_patches=True,\n",
    ")"
   ]
  },
  {
   "cell_type": "markdown",
   "metadata": {},
   "source": [
    "When comparing the training and validation metrics with the original history above, we can see that the model improves much faster now (especially the training metrics). Normalizing the input images clearly has a noticeable effect on the training, even though each U-Net block has a batch normalization layer."
   ]
  },
  {
   "cell_type": "code",
   "execution_count": null,
   "metadata": {},
   "outputs": [],
   "source": [
    "plot_training_history(history, metrics=['loss', 'acc'])"
   ]
  },
  {
   "cell_type": "code",
   "execution_count": null,
   "metadata": {},
   "outputs": [],
   "source": [
    "preds = predict_on_test_set(\n",
    "    patch_cnn,\n",
    "    normalize=True, \n",
    "    submission_fn=\"patch_cnn_baseline_image_norm.csv\",\n",
    "    use_patches=True,\n",
    ")\n",
    "plot_predictions(preds)"
   ]
  },
  {
   "cell_type": "markdown",
   "metadata": {},
   "source": [
    "### Weighted Loss\n",
    "Since there are much more background pixels than road pixels in the segmentation masks (4.6x more in the training set), we can adjust the training loss such that positive labels (road) have a higher weight."
   ]
  },
  {
   "cell_type": "code",
   "execution_count": 9,
   "metadata": {},
   "outputs": [
    {
     "name": "stdout",
     "output_type": "stream",
     "text": [
      "Total number of pixels:\t\t23040000\n",
      "Total number of pos. pixels:\t4100589\n",
      "Total number of neg. pixels:\t18939411\n",
      "#neg. / #pos. pixels:\t4.618705020181247\n"
     ]
    }
   ],
   "source": [
    "all_mask_pixels = load_images(os.path.join(\"training\", \"groundtruth\"))\n",
    "\n",
    "n_pos = np.count_nonzero(all_mask_pixels)\n",
    "n_neg = all_mask_pixels.size - n_pos\n",
    "\n",
    "print(f\"Total number of pixels:\\t\\t{all_mask_pixels.size}\")\n",
    "print(f\"Total number of pos. pixels:\\t{n_pos}\")\n",
    "print(f\"Total number of neg. pixels:\\t{n_neg}\")\n",
    "print(f\"#neg. / #pos. pixels:\\t{float(n_neg) / n_pos}\")\n",
    "\n",
    "del all_mask_pixels"
   ]
  },
  {
   "cell_type": "code",
   "execution_count": null,
   "metadata": {},
   "outputs": [],
   "source": [
    "patch_cnn = PatchCNN().to(device)\n",
    "history = train_model(\n",
    "    model=patch_cnn,\n",
    "    image_fns_train=image_fns[:-10],\n",
    "    mask_fns_train=mask_fns[:-10],\n",
    "    image_fns_val=image_fns[-10:],\n",
    "    mask_fns_val=mask_fns[-10:],\n",
    "    n_epochs=20,\n",
    "    batch_size=128,\n",
    "    normalize=True,\n",
    "    pos_weight=4.6,\n",
    "    use_patches=True,\n",
    ")"
   ]
  },
  {
   "cell_type": "markdown",
   "metadata": {},
   "source": [
    "Now, the loss of course has a different scale and needs to be interpreted differently. However, the weighted loss shows no advantage with respect to the patch F1 score."
   ]
  },
  {
   "cell_type": "code",
   "execution_count": null,
   "metadata": {},
   "outputs": [],
   "source": [
    "plot_training_history(history, metrics=['loss', 'acc'])"
   ]
  },
  {
   "cell_type": "markdown",
   "metadata": {},
   "source": [
    "### Dataset Augmentation\n",
    "\n",
    "Since we have very few training samples, we can create an extended dataset by applying random flips, rotations and color jitters. Please see *augmentation_experiments.ipynb* for more information. Let us generate 10 new samples from each original sample."
   ]
  },
  {
   "cell_type": "code",
   "execution_count": 8,
   "metadata": {},
   "outputs": [
    {
     "name": "stdout",
     "output_type": "stream",
     "text": [
      "Image 1440/1440\n"
     ]
    }
   ],
   "source": [
    "augment_dataset(\n",
    "    imgs=load_pil_images(os.path.join(\"training\", \"images\")), \n",
    "    masks=load_pil_images(os.path.join(\"training\", \"groundtruth\")),\n",
    "    n_samples_per_img=10,\n",
    "    dir=\"training_ext\",\n",
    "    brightness=0.1, \n",
    "    contrast=0.1, \n",
    "    saturation=0.1, \n",
    "    hue=0.05\n",
    ")"
   ]
  },
  {
   "cell_type": "markdown",
   "metadata": {},
   "source": [
    "Now, we have a dataset that is 10x larger! Let us retrain our baseline model on the extended dataset. Note that there is no information leakage in the following code cell. Since there are 10 versions of each original sample, we select the last 100 new samples for the validation set. This way, there are no two versions of the same original sample where one version is in the training set and the other one in the validation set."
   ]
  },
  {
   "cell_type": "code",
   "execution_count": null,
   "metadata": {},
   "outputs": [],
   "source": [
    "image_fns = sorted(glob(os.path.join(\"training_ext\", \"images\", \"*.png\")))\n",
    "mask_fns = sorted(glob(os.path.join(\"training_ext\", \"groundtruth\", \"*.png\")))\n",
    "\n",
    "patch_cnn = PatchCNN().to(device)\n",
    "history = train_model(\n",
    "    model=patch_cnn,\n",
    "    image_fns_train=image_fns[:-100],\n",
    "    mask_fns_train=mask_fns[:-100],\n",
    "    image_fns_val=image_fns[-100:],\n",
    "    mask_fns_val=mask_fns[-100:],\n",
    "    n_epochs=20,\n",
    "    batch_size=128,\n",
    "    normalize=True,\n",
    "    use_patches=True,\n",
    ")"
   ]
  },
  {
   "cell_type": "markdown",
   "metadata": {},
   "source": [
    "The training is much more robust now. If we plot the history of the metrics, we can see that the patch F1 score keeps to slightly, even though the model starts to overfit after epoch 10. Apparently, some \"overconfidence\" is beneficial in terms of patch F1 score. If we use the model as trained to make predictions on the test set, we get a score of 0.897 on the leaderboard."
   ]
  },
  {
   "cell_type": "code",
   "execution_count": null,
   "metadata": {},
   "outputs": [],
   "source": [
    "plot_training_history(history, metrics=['loss', 'acc'])"
   ]
  },
  {
   "cell_type": "code",
   "execution_count": null,
   "metadata": {},
   "outputs": [],
   "source": [
    "preds = predict_on_test_set(\n",
    "    patch_cnn, \n",
    "    normalize=True, \n",
    "    submission_fn=\"patch_cnn_baseline_augmentation.csv\",\n",
    "    use_patches=True,\n",
    ")\n",
    "plot_predictions(preds)"
   ]
  }
 ],
 "metadata": {
  "kernelspec": {
   "display_name": "Python 3.9.1 64-bit",
   "language": "python",
   "name": "python3"
  },
  "language_info": {
   "codemirror_mode": {
    "name": "ipython",
    "version": 3
   },
   "file_extension": ".py",
   "mimetype": "text/x-python",
   "name": "python",
   "nbconvert_exporter": "python",
   "pygments_lexer": "ipython3",
   "version": "3.9.1"
  },
  "orig_nbformat": 4,
  "vscode": {
   "interpreter": {
    "hash": "88138175cbb6224e62c0ece1f7e9b6cb34c161666cf36be8b5c20091db9a983b"
   }
  }
 },
 "nbformat": 4,
 "nbformat_minor": 2
}
