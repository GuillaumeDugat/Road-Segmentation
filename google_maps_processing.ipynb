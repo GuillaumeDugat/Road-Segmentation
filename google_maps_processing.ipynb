{
 "cells": [
  {
   "cell_type": "markdown",
   "metadata": {},
   "source": [
    "# Processing of Downloaded Google Maps Data\n",
    "This notebook generates many new samples from the downloaded Google Maps data by slicing the large images into smaller ones and applying rotations and flips. Don't forget to download the Google Maps data first as described in *README.md*."
   ]
  },
  {
   "cell_type": "code",
   "execution_count": 6,
   "metadata": {},
   "outputs": [],
   "source": [
    "from src.google_maps_processing import process_images\n",
    "\n",
    "# NOTE: The processing can take up to 50 minutes to run and generates around 175'000 Images of size 400x400.\n",
    "# This amounts to 10.5 GiB of data.\n",
    "\n",
    "# if you want to generate fewer images, use the parameters below to restrict the rotations and offsets considered."
   ]
  },
  {
   "cell_type": "markdown",
   "metadata": {},
   "source": [
    "Choose the processing parameters."
   ]
  },
  {
   "cell_type": "code",
   "execution_count": 7,
   "metadata": {},
   "outputs": [],
   "source": [
    "# choose the rotations:\n",
    "#other_rotations = [30, 60, 120, 150, 210, 240, 300, 330] # 30 degrees\n",
    "#other_rotations = [45, 135, 225, 315] # 45 degrees\n",
    "other_rotations = []\n",
    "\n",
    "# right angles are a special case that need to be handled in this array.\n",
    "right_angles = [0, 90, 180, 270] \n",
    "\n",
    "# choose the translational difference amount in pixels per image\n",
    "#divisions = 10 # 100 subimages, 20% difference in each image\n",
    "#divisions = 5 # 25 subimages, 50% difference in each image\n",
    "divisions = 3 # 9 subimages, no overlap!"
   ]
  },
  {
   "cell_type": "code",
   "execution_count": 8,
   "metadata": {},
   "outputs": [
    {
     "name": "stdout",
     "output_type": "stream",
     "text": [
      "0  1  2  3  4  5  6  7  8  9  10  11  12  13  14  15  16  17  18  19  20  21  22  23  24  25  26  27  28  29  30  31  32  33  34  35  36  37  38  39  40  41  42  43  44  45  46  47  48  49  50  51  52  53  54  55  56  57  58  59  60  61  62  63  64  65  66  67  68  69  70  71  72  73  74  75  76  77  78  79  80  81  82  83  84  85  86  87  88  89  90  91  92  93  94  95  96  97  98  99  100  101  102  103  104  105  106  107  108  109  110  111  112  113  114  115  116  117  118  119  120  121  122  123  124  125  126  127  128  129  130  131  132  133  134  135  136  137  138  139  140  141  142  143  144  145  146  147  148  149  150  151  152  153  154  155  156  157  158  159  160  161  162  163  164  165  166  167  168  169  170  171  172  173  174  175  176  177  178  179  \n",
      "Took: 1.5e+02s to create 25920 images\n"
     ]
    }
   ],
   "source": [
    "process_images(\n",
    "    other_rotations=other_rotations,\n",
    "    right_angles=right_angles,\n",
    "    divisions=divisions,\n",
    ")"
   ]
  }
 ],
 "metadata": {
  "kernelspec": {
   "display_name": "Python 3.7.13 ('base')",
   "language": "python",
   "name": "python3"
  },
  "language_info": {
   "codemirror_mode": {
    "name": "ipython",
    "version": 3
   },
   "file_extension": ".py",
   "mimetype": "text/x-python",
   "name": "python",
   "nbconvert_exporter": "python",
   "pygments_lexer": "ipython3",
   "version": "3.7.13"
  },
  "orig_nbformat": 4,
  "vscode": {
   "interpreter": {
    "hash": "08949fc8b17ce62f76e34b0da5a995ede9e80a76b5ea84175364736cbf1da20d"
   }
  }
 },
 "nbformat": 4,
 "nbformat_minor": 2
}
